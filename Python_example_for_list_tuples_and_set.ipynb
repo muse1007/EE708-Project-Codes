{
  "cells": [
    {
      "cell_type": "markdown",
      "source": [
        "Some examples of lists, tuples, and sets in Python:\n",
        "\n",
        "**Lists**\n",
        "\n",
        "A list is a collection of items that are ordered and can be accessed by their index. Lists are created using square brackets."
      ],
      "metadata": {
        "id": "eAXUx2tTKoOX"
      }
    },
    {
      "cell_type": "code",
      "source": [
        "my_list = [1, 2, 3, 4, 5]\n",
        "\n",
        "print(my_list[0])  # 1\n",
        "print(my_list[-1])  # 5"
      ],
      "outputs": [],
      "execution_count": null,
      "metadata": {
        "id": "aPG1yQ3FKoOb"
      }
    },
    {
      "cell_type": "markdown",
      "source": [
        "**Tuples**\n",
        "\n",
        "A tuple is a collection of items that are ordered and cannot be changed. Tuples are created using parentheses."
      ],
      "metadata": {
        "id": "SgaF_3K6KoOd"
      }
    },
    {
      "cell_type": "code",
      "source": [
        "my_tuple = (1, 2, 3, 4, 5)\n",
        "\n",
        "print(my_tuple[0])  # 1\n",
        "print(my_tuple[-1])  # 5"
      ],
      "outputs": [],
      "execution_count": null,
      "metadata": {
        "id": "ZCW28fOkKoOd"
      }
    },
    {
      "cell_type": "markdown",
      "source": [
        "**Sets**\n",
        "\n",
        "A set is a collection of items that are unordered and cannot contain duplicates. Sets are created using curly braces."
      ],
      "metadata": {
        "id": "a8yyLJ0eKoOe"
      }
    },
    {
      "cell_type": "code",
      "source": [
        "my_set = {1, 2, 3, 4, 5}\n",
        "\n",
        "print(my_set)  # {1, 2, 3, 4, 5}\n",
        "\n",
        "print(my_set.add(6))  # my_set now contains {1, 2, 3, 4, 5, 6}\n",
        "\n",
        "print(my_set.remove(2))  # my_set now contains {1, 3, 4, 5, 6}"
      ],
      "outputs": [],
      "execution_count": null,
      "metadata": {
        "id": "NyXUTw1cKoOe"
      }
    },
    {
      "cell_type": "markdown",
      "source": [
        "Go through these examples and if there's any doubt, ask me in the group"
      ],
      "metadata": {
        "id": "r-AvrC8-KoOf"
      }
    }
  ],
  "metadata": {
    "colab": {
      "provenance": []
    },
    "kernelspec": {
      "display_name": "Python 3",
      "name": "python3"
    }
  },
  "nbformat": 4,
  "nbformat_minor": 0
}